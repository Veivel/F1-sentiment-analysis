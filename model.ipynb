{
 "cells": [
  {
   "cell_type": "code",
   "execution_count": 3,
   "metadata": {},
   "outputs": [],
   "source": [
    "import string\n",
    "import copy\n",
    "\n",
    "import pandas as pd\n",
    "import numpy as np\n",
    "import nltk\n",
    "import re\n",
    "\n",
    "# These local libraries need to be re-imported (kernel restart) everytime there is an update\n",
    "import nlp_models\n",
    "from nlp_cleaner import text_cleaner\n",
    "\n",
    "import warnings\n",
    "warnings.filterwarnings('ignore')"
   ]
  },
  {
   "cell_type": "code",
   "execution_count": 4,
   "metadata": {},
   "outputs": [],
   "source": [
    "raw = pd.read_csv('train/data/sentiment-labeled/s_raw_1557352816624246792.csv.csv', header=0)\n",
    "data = copy.deepcopy(list(raw['text']))"
   ]
  },
  {
   "cell_type": "code",
   "execution_count": 5,
   "metadata": {},
   "outputs": [
    {
     "name": "stderr",
     "output_type": "stream",
     "text": [
      "[nltk_data] Downloading package stopwords to /Users/veii/nltk_data...\n",
      "[nltk_data]   Package stopwords is already up-to-date!\n"
     ]
    }
   ],
   "source": [
    "nltk.download('stopwords')\n",
    "data = text_cleaner.clean(data)\n",
    "\n",
    "raw['text'] = data"
   ]
  },
  {
   "cell_type": "markdown",
   "metadata": {},
   "source": [
    "## Basic Model"
   ]
  },
  {
   "cell_type": "code",
   "execution_count": 6,
   "metadata": {},
   "outputs": [
    {
     "name": "stdout",
     "output_type": "stream",
     "text": [
      "Score of xgb: 0.6706418219461697\n",
      "Score of gaussian_nb: 0.40766045548654245\n",
      "Score of multi_nb: 0.6936645962732919\n",
      "Score of rforest: 0.731304347826087\n",
      "Score of entropy_rforest: 0.7313457556935818\n",
      "Score of decision_tree: 0.7023188405797101\n",
      "\n"
     ]
    }
   ],
   "source": [
    "trainer = nlp_models.sklearn_model(raw['text'], raw['sentiment'])\n",
    "s = trainer.evaluate_models()\n",
    "print(s)"
   ]
  },
  {
   "cell_type": "code",
   "execution_count": 7,
   "metadata": {},
   "outputs": [
    {
     "name": "stdout",
     "output_type": "stream",
     "text": [
      "RandomForestClassifier(criterion='entropy')\n",
      "Classifier fit success.\n"
     ]
    }
   ],
   "source": [
    "choice = 'entropy_rforest'\n",
    "s = trainer.train(choice)\n",
    "print(s)"
   ]
  },
  {
   "cell_type": "code",
   "execution_count": 22,
   "metadata": {},
   "outputs": [],
   "source": [
    "test_df = pd.read_csv('test/data/ricciardo.csv', index_col=0)\n",
    "x_test = text_cleaner.clean(test_df['text'])\n",
    "\n",
    "y_pred = trainer.predict(x_test)\n",
    "results = pd.DataFrame({'tweet': test_df['text'], 'target':y_pred})\n",
    "results.to_csv('test/data/pred_ricciardo.csv') "
   ]
  }
 ],
 "metadata": {
  "kernelspec": {
   "display_name": "Python 3.9.13 ('ds-env')",
   "language": "python",
   "name": "python3"
  },
  "language_info": {
   "codemirror_mode": {
    "name": "ipython",
    "version": 3
   },
   "file_extension": ".py",
   "mimetype": "text/x-python",
   "name": "python",
   "nbconvert_exporter": "python",
   "pygments_lexer": "ipython3",
   "version": "3.9.13"
  },
  "orig_nbformat": 4,
  "vscode": {
   "interpreter": {
    "hash": "50d0380861f23b593d520040a66e7a725c6f22b71f0b66fe8e911c9f7b422174"
   }
  }
 },
 "nbformat": 4,
 "nbformat_minor": 2
}
