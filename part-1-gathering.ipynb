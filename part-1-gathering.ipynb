{
 "cells": [
  {
   "cell_type": "markdown",
   "metadata": {},
   "source": [
    "# Part I: Gathering Data"
   ]
  },
  {
   "cell_type": "markdown",
   "metadata": {},
   "source": [
    "yes, different aspects of the project are separated into their own files so each part of the pipeline is modular (and the code is cleaner)"
   ]
  },
  {
   "cell_type": "code",
   "execution_count": 64,
   "metadata": {},
   "outputs": [],
   "source": [
    "import tweepy\n",
    "import pandas as pd"
   ]
  },
  {
   "cell_type": "code",
   "execution_count": 65,
   "metadata": {},
   "outputs": [],
   "source": [
    "acc = open(\"access.txt\", \"r\")\n",
    "\n",
    "# consumer key & secret\n",
    "api_key = acc.readline().strip()\n",
    "api_secret = acc.readline().strip()\n",
    "# access token/key & secret\n",
    "access_key = acc.readline().strip()\n",
    "access_secret = acc.readline().strip()\n",
    "# bearer token\n",
    "bearer = acc.readline().strip()\n",
    "\n",
    "acc.close()\n",
    "\n",
    "client = tweepy.Client(\n",
    "    bearer_token        = bearer,\n",
    "    access_token        = access_key,\n",
    "    access_token_secret = access_secret,\n",
    "    consumer_key        = api_key,\n",
    "    consumer_secret     = api_secret\n",
    ")"
   ]
  },
  {
   "cell_type": "code",
   "execution_count": 66,
   "metadata": {},
   "outputs": [],
   "source": [
    "existing_tweets = pd.read_csv('raw.csv', header=None)\n",
    "existing_tweets = list(existing_tweets[0])"
   ]
  },
  {
   "cell_type": "code",
   "execution_count": 67,
   "metadata": {},
   "outputs": [],
   "source": [
    "USE_ALTERNATE = False\n",
    "\n",
    "GET_NEW_TWEETS = True\n",
    "DO_EXPORT = True\n",
    "\n",
    "keyword = \"leclerc\"\n",
    "maxNum = 100"
   ]
  },
  {
   "cell_type": "code",
   "execution_count": 68,
   "metadata": {},
   "outputs": [],
   "source": [
    "if GET_NEW_TWEETS == True and USE_ALTERNATE == False:\n",
    "    tweets = set()\n",
    "    recent = client.search_recent_tweets(query=keyword, max_results=maxNum)\n",
    "    \n",
    "    for item in recent[0]:\n",
    "        if not item.text in existing_tweets: # Prevent duplicates\n",
    "            tweets.add(item.text)\n",
    "    tweets = list(tweets)\n",
    "    \n",
    "    # Export 'tweets' to csv file (raw, no indexing) by mode append\n",
    "    if DO_EXPORT:\n",
    "        pd.Series(tweets).to_csv('raw.csv', index=False, header=False, mode='a')\n",
    "    \n",
    "elif not USE_ALTERNATE:\n",
    "    # Testing only\n",
    "    tweets = pd.read_csv('raw.csv')\n",
    "    tweets = list(tweets['0'])"
   ]
  },
  {
   "cell_type": "markdown",
   "metadata": {},
   "source": [
    "Alternate:"
   ]
  },
  {
   "cell_type": "code",
   "execution_count": 69,
   "metadata": {},
   "outputs": [],
   "source": [
    "if USE_ALTERNATE: # NOT TESTED because I have not been given elevated acc\n",
    "    auth = tweepy.OAuth1UserHandler(\n",
    "        consumer_key=api_key, \n",
    "        consumer_secret=api_secret,\n",
    "        access_token=access_key,\n",
    "        access_token_secret=access_secret)\n",
    "    \n",
    "    api = tweepy.API(auth)\n",
    "    tweets = api.search_tweets()\n",
    "        \n",
    "    print(tweets)"
   ]
  }
 ],
 "metadata": {
  "kernelspec": {
   "display_name": "Python 3.9.10 64-bit",
   "language": "python",
   "name": "python3"
  },
  "language_info": {
   "codemirror_mode": {
    "name": "ipython",
    "version": 3
   },
   "file_extension": ".py",
   "mimetype": "text/x-python",
   "name": "python",
   "nbconvert_exporter": "python",
   "pygments_lexer": "ipython3",
   "version": "3.9.10"
  },
  "orig_nbformat": 4,
  "vscode": {
   "interpreter": {
    "hash": "b0fa6594d8f4cbf19f97940f81e996739fb7646882a419484c72d19e05852a7e"
   }
  }
 },
 "nbformat": 4,
 "nbformat_minor": 2
}
