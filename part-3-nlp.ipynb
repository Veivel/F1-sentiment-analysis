{
 "cells": [
  {
   "cell_type": "markdown",
   "metadata": {},
   "source": [
    "# Part II"
   ]
  },
  {
   "cell_type": "code",
   "execution_count": 30,
   "metadata": {},
   "outputs": [],
   "source": [
    "import pandas as pd\n",
    "\n",
    "from sklearn import feature_extraction\n",
    "from sklearn.model_selection import train_test_split\n",
    "from sklearn import naive_bayes, ensemble, tree\n",
    "from sklearn import metrics\n",
    "import xgboost\n",
    "\n",
    "FORECAST_MODE = False"
   ]
  },
  {
   "cell_type": "code",
   "execution_count": 31,
   "metadata": {},
   "outputs": [],
   "source": [
    "data = pd.read_excel('out.xlsx', index_col=None)"
   ]
  },
  {
   "cell_type": "markdown",
   "metadata": {},
   "source": [
    "## Feature Extraction (creating Bag of words NLP model"
   ]
  },
  {
   "cell_type": "code",
   "execution_count": 32,
   "metadata": {},
   "outputs": [],
   "source": [
    "cv = feature_extraction.text.CountVectorizer()\n",
    "\n",
    "X = cv.fit_transform(data['tweet content']).toarray()\n",
    "y = data['sentiment']"
   ]
  },
  {
   "cell_type": "markdown",
   "metadata": {},
   "source": [
    "## Training & Forecast"
   ]
  },
  {
   "cell_type": "code",
   "execution_count": 33,
   "metadata": {},
   "outputs": [],
   "source": [
    "if not FORECAST_MODE:\n",
    "    X_train, X_test, y_train, y_test = train_test_split(X, y, random_state=3, train_size=0.5)\n",
    "else:\n",
    "    X_train = X\n",
    "    y_train = y\n",
    "    X_test = None #TODO"
   ]
  },
  {
   "cell_type": "code",
   "execution_count": 34,
   "metadata": {},
   "outputs": [],
   "source": [
    "dict_classifiers = {\n",
    "    'xgb': xgboost.XGBClassifier(),\n",
    "    'gaussian_nb': naive_bayes.GaussianNB(),\n",
    "    'rforest': ensemble.RandomForestClassifier(),\n",
    "    'entropy_rforest': ensemble.RandomForestClassifier(criterion='entropy'),\n",
    "    'decision_tree': tree.DecisionTreeClassifier()\n",
    "}\n",
    "\n",
    "choice = 'gaussian_nb'\n",
    "\n",
    "classifier = dict_classifiers[choice]\n",
    "classifier.fit(X_train, y_train)\n",
    "\n",
    "y_pred = classifier.predict(X_test)"
   ]
  },
  {
   "cell_type": "markdown",
   "metadata": {},
   "source": [
    "## Metrics / Export"
   ]
  },
  {
   "cell_type": "code",
   "execution_count": 35,
   "metadata": {},
   "outputs": [
    {
     "ename": "IndentationError",
     "evalue": "expected an indented block (501966087.py, line 7)",
     "output_type": "error",
     "traceback": [
      "\u001b[0;36m  Input \u001b[0;32mIn [35]\u001b[0;36m\u001b[0m\n\u001b[0;31m    # Export stuff\u001b[0m\n\u001b[0m                  ^\u001b[0m\n\u001b[0;31mIndentationError\u001b[0m\u001b[0;31m:\u001b[0m expected an indented block\n"
     ]
    }
   ],
   "source": [
    "if not FORECAST_MODE:\n",
    "    score = metrics.accuracy_score(y_true=y_test, y_pred=y_pred)\n",
    "    cm = metrics.confusion_matrix(y_true= y_test, y_pred=y_pred)\n",
    "    print(f\"Score of {choice}: {score}\")\n",
    "    print(cm)\n",
    "else:\n",
    "    # Export stuff\n",
    "    pass"
   ]
  }
 ],
 "metadata": {
  "kernelspec": {
   "display_name": "Python 3.9.10 64-bit",
   "language": "python",
   "name": "python3"
  },
  "language_info": {
   "codemirror_mode": {
    "name": "ipython",
    "version": 3
   },
   "file_extension": ".py",
   "mimetype": "text/x-python",
   "name": "python",
   "nbconvert_exporter": "python",
   "pygments_lexer": "ipython3",
   "version": "3.9.10"
  },
  "orig_nbformat": 4,
  "vscode": {
   "interpreter": {
    "hash": "b0fa6594d8f4cbf19f97940f81e996739fb7646882a419484c72d19e05852a7e"
   }
  }
 },
 "nbformat": 4,
 "nbformat_minor": 2
}
